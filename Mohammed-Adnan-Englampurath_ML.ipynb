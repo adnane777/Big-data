{
 "cells": [
  {
   "cell_type": "code",
   "execution_count": 0,
   "metadata": {
    "application/vnd.databricks.v1+cell": {
     "cellMetadata": {
      "byteLimit": 2048000,
      "implicitDf": true,
      "rowLimit": 10000
     },
     "inputWidgets": {},
     "nuid": "eff0de55-cc33-403e-9f15-eb02f614656a",
     "showTitle": false,
     "title": ""
    }
   },
   "outputs": [],
   "source": [
    "import mlflow\n",
    "mlflow.pyspark.ml.autolog()"
   ]
  },
  {
   "cell_type": "code",
   "execution_count": 0,
   "metadata": {
    "application/vnd.databricks.v1+cell": {
     "cellMetadata": {
      "byteLimit": 2048000,
      "rowLimit": 10000
     },
     "inputWidgets": {},
     "nuid": "cb9f010b-3d56-4f44-bbd6-d6a0cbf7fe30",
     "showTitle": false,
     "title": ""
    }
   },
   "outputs": [
    {
     "output_type": "execute_result",
     "data": {
      "text/plain": [
       "[FileInfo(path='dbfs:/FileStore/tables/BDTT_Lab_2023_24_Week7__1_.pdf', name='BDTT_Lab_2023_24_Week7__1_.pdf', size=1179007, modificationTime=1714128978000),\n",
       " FileInfo(path='dbfs:/FileStore/tables/Occupancy_Detection_Data.csv', name='Occupancy_Detection_Data.csv', size=50968, modificationTime=1709137348000),\n",
       " FileInfo(path='dbfs:/FileStore/tables/TS021_2021_2.csv', name='TS021_2021_2.csv', size=497239, modificationTime=1710953978000),\n",
       " FileInfo(path='dbfs:/FileStore/tables/account-models/', name='account-models/', size=0, modificationTime=0),\n",
       " FileInfo(path='dbfs:/FileStore/tables/accounts/', name='accounts/', size=0, modificationTime=0),\n",
       " FileInfo(path='dbfs:/FileStore/tables/activations/', name='activations/', size=0, modificationTime=0),\n",
       " FileInfo(path='dbfs:/FileStore/tables/activations.zip', name='activations.zip', size=8411369, modificationTime=1706717421000),\n",
       " FileInfo(path='dbfs:/FileStore/tables/clinicaltrial_2021.csv', name='clinicaltrial_2021.csv', size=50359696, modificationTime=1710244197000),\n",
       " FileInfo(path='dbfs:/FileStore/tables/clinicaltrial_2023.csv', name='clinicaltrial_2023.csv', size=292436366, modificationTime=1714576205000),\n",
       " FileInfo(path='dbfs:/FileStore/tables/clinicaltrial_2023.zip', name='clinicaltrial_2023.zip', size=57166668, modificationTime=1709207360000),\n",
       " FileInfo(path='dbfs:/FileStore/tables/ethnic.csv/', name='ethnic.csv/', size=0, modificationTime=0),\n",
       " FileInfo(path='dbfs:/FileStore/tables/flood-1.csv', name='flood-1.csv', size=128984, modificationTime=1707933588000),\n",
       " FileInfo(path='dbfs:/FileStore/tables/flood-2.csv', name='flood-2.csv', size=128984, modificationTime=1708017960000),\n",
       " FileInfo(path='dbfs:/FileStore/tables/flood.csv', name='flood.csv', size=128984, modificationTime=1707931648000),\n",
       " FileInfo(path='dbfs:/FileStore/tables/iotstream/', name='iotstream/', size=0, modificationTime=0),\n",
       " FileInfo(path='dbfs:/FileStore/tables/iotstream.zip', name='iotstream.zip', size=43891, modificationTime=1708538671000),\n",
       " FileInfo(path='dbfs:/FileStore/tables/logs/', name='logs/', size=0, modificationTime=0),\n",
       " FileInfo(path='dbfs:/FileStore/tables/movies.csv', name='movies.csv', size=494431, modificationTime=1709742843000),\n",
       " FileInfo(path='dbfs:/FileStore/tables/myratings_1_.csv', name='myratings_1_.csv', size=10683, modificationTime=1709742901000),\n",
       " FileInfo(path='dbfs:/FileStore/tables/pharma', name='pharma', size=678999, modificationTime=1709382002000),\n",
       " FileInfo(path='dbfs:/FileStore/tables/pharma.csv', name='pharma.csv', size=678999, modificationTime=1714576298000),\n",
       " FileInfo(path='dbfs:/FileStore/tables/pharma.zip', name='pharma.zip', size=109982, modificationTime=1714394036000),\n",
       " FileInfo(path='dbfs:/FileStore/tables/pharma__1_/', name='pharma__1_/', size=0, modificationTime=0),\n",
       " FileInfo(path='dbfs:/FileStore/tables/ratings.csv', name='ratings.csv', size=2483723, modificationTime=1709742843000),\n",
       " FileInfo(path='dbfs:/FileStore/tables/steam_200k.csv', name='steam_200k.csv', size=8059447, modificationTime=1713262425000),\n",
       " FileInfo(path='dbfs:/FileStore/tables/test-1.json', name='test-1.json', size=19748, modificationTime=1706113543000),\n",
       " FileInfo(path='dbfs:/FileStore/tables/test.json', name='test.json', size=19748, modificationTime=1706113003000),\n",
       " FileInfo(path='dbfs:/FileStore/tables/webpage/', name='webpage/', size=0, modificationTime=0),\n",
       " FileInfo(path='dbfs:/FileStore/tables/webpage.zip', name='webpage.zip', size=1582, modificationTime=1708005106000),\n",
       " FileInfo(path='dbfs:/FileStore/tables/webpage_file_all/', name='webpage_file_all/', size=0, modificationTime=0),\n",
       " FileInfo(path='dbfs:/FileStore/tables/webpage_files_all/', name='webpage_files_all/', size=0, modificationTime=0),\n",
       " FileInfo(path='dbfs:/FileStore/tables/webpage_files_jpg/', name='webpage_files_jpg/', size=0, modificationTime=0)]"
      ]
     },
     "execution_count": 2,
     "metadata": {},
     "output_type": "execute_result"
    }
   ],
   "source": [
    "dbutils.fs.ls(\"/FileStore/tables/\")"
   ]
  },
  {
   "cell_type": "code",
   "execution_count": 0,
   "metadata": {
    "application/vnd.databricks.v1+cell": {
     "cellMetadata": {
      "byteLimit": 2048000,
      "rowLimit": 10000
     },
     "inputWidgets": {},
     "nuid": "326981ab-9350-49ba-a05b-3ef72c5e7207",
     "showTitle": false,
     "title": ""
    }
   },
   "outputs": [
    {
     "output_type": "stream",
     "name": "stdout",
     "output_type": "stream",
     "text": [
      "+---------+--------------------+---------+--------------+\n|   UserId|            GameName|Behaviour|PurchaseorPlay|\n+---------+--------------------+---------+--------------+\n|151603712|The Elder Scrolls...| purchase|           1.0|\n|151603712|The Elder Scrolls...|     play|         273.0|\n|151603712|           Fallout 4| purchase|           1.0|\n|151603712|           Fallout 4|     play|          87.0|\n|151603712|               Spore| purchase|           1.0|\n|151603712|               Spore|     play|          14.9|\n|151603712|   Fallout New Vegas| purchase|           1.0|\n|151603712|   Fallout New Vegas|     play|          12.1|\n|151603712|       Left 4 Dead 2| purchase|           1.0|\n|151603712|       Left 4 Dead 2|     play|           8.9|\n|151603712|            HuniePop| purchase|           1.0|\n|151603712|            HuniePop|     play|           8.5|\n|151603712|       Path of Exile| purchase|           1.0|\n|151603712|       Path of Exile|     play|           8.1|\n|151603712|         Poly Bridge| purchase|           1.0|\n|151603712|         Poly Bridge|     play|           7.5|\n|151603712|         Left 4 Dead| purchase|           1.0|\n|151603712|         Left 4 Dead|     play|           3.3|\n|151603712|     Team Fortress 2| purchase|           1.0|\n|151603712|     Team Fortress 2|     play|           2.8|\n|151603712|         Tomb Raider| purchase|           1.0|\n|151603712|         Tomb Raider|     play|           2.5|\n|151603712|     The Banner Saga| purchase|           1.0|\n|151603712|     The Banner Saga|     play|           2.0|\n|151603712|Dead Island Epidemic| purchase|           1.0|\n|151603712|Dead Island Epidemic|     play|           1.4|\n|151603712|   BioShock Infinite| purchase|           1.0|\n|151603712|   BioShock Infinite|     play|           1.3|\n|151603712|Dragon Age Origin...| purchase|           1.0|\n|151603712|Dragon Age Origin...|     play|           1.3|\n|151603712|Fallout 3 - Game ...| purchase|           1.0|\n|151603712|Fallout 3 - Game ...|     play|           0.8|\n|151603712|SEGA Genesis & Me...| purchase|           1.0|\n|151603712|SEGA Genesis & Me...|     play|           0.8|\n|151603712| Grand Theft Auto IV| purchase|           1.0|\n|151603712| Grand Theft Auto IV|     play|           0.6|\n|151603712|Realm of the Mad God| purchase|           1.0|\n|151603712|Realm of the Mad God|     play|           0.5|\n|151603712|  Marvel Heroes 2015| purchase|           1.0|\n|151603712|  Marvel Heroes 2015|     play|           0.5|\n|151603712|             Eldevin| purchase|           1.0|\n|151603712|             Eldevin|     play|           0.5|\n|151603712|              Dota 2| purchase|           1.0|\n|151603712|              Dota 2|     play|           0.5|\n|151603712|            BioShock| purchase|           1.0|\n|151603712|            BioShock|     play|           0.5|\n|151603712|           Robocraft| purchase|           1.0|\n|151603712|           Robocraft|     play|           0.4|\n|151603712|         Garry's Mod| purchase|           1.0|\n|151603712|         Garry's Mod|     play|           0.1|\n|151603712|            Jazzpunk| purchase|           1.0|\n|151603712|            Jazzpunk|     play|           0.1|\n|151603712|           Alan Wake| purchase|           1.0|\n|151603712|          BioShock 2| purchase|           1.0|\n|151603712|        Fallen Earth| purchase|           1.0|\n|151603712|Fallout New Vegas...| purchase|           1.0|\n|151603712|Fallout New Vegas...| purchase|           1.0|\n|151603712|Fallout New Vegas...| purchase|           1.0|\n|151603712|Grand Theft Auto ...| purchase|           1.0|\n|151603712|   Hitman Absolution| purchase|           1.0|\n|151603712|HuniePop Official...| purchase|           1.0|\n|151603712|HuniePop Original...| purchase|           1.0|\n|151603712|The Banner Saga -...| purchase|           1.0|\n|151603712|The Elder Scrolls...| purchase|           1.0|\n|151603712|The Elder Scrolls...| purchase|           1.0|\n|151603712|The Elder Scrolls...| purchase|           1.0|\n|187131847|              Dota 2| purchase|           1.0|\n|187131847|              Dota 2|     play|           2.3|\n| 59945701|Ultra Street Figh...| purchase|           1.0|\n| 59945701|Ultra Street Figh...|     play|         238.0|\n| 59945701|  FINAL FANTASY XIII| purchase|           1.0|\n| 59945701|  FINAL FANTASY XIII|     play|          84.0|\n| 59945701|The Elder Scrolls...| purchase|           1.0|\n| 59945701|The Elder Scrolls...|     play|          58.0|\n| 59945701|Sid Meier's Civil...| purchase|           1.0|\n| 59945701|Sid Meier's Civil...|     play|          22.0|\n| 59945701|          L.A. Noire| purchase|           1.0|\n| 59945701|          L.A. Noire|     play|          13.8|\n| 59945701|Company of Heroes...| purchase|           1.0|\n| 59945701|Company of Heroes...|     play|          10.2|\n| 59945701|       7 Days to Die| purchase|           1.0|\n| 59945701|       7 Days to Die|     play|           7.8|\n| 59945701|            Divekick| purchase|           1.0|\n| 59945701|            Divekick|     play|           7.0|\n| 59945701|   FINAL FANTASY VII| purchase|           1.0|\n| 59945701|   FINAL FANTASY VII|     play|           5.2|\n| 59945701|    Orcs Must Die! 2| purchase|           1.0|\n| 59945701|    Orcs Must Die! 2|     play|           4.8|\n| 59945701|       Killing Floor| purchase|           1.0|\n| 59945701|       Killing Floor|     play|           3.4|\n| 59945701|   Company of Heroes| purchase|           1.0|\n| 59945701|   Company of Heroes|     play|           3.2|\n| 59945701|             Bastion| purchase|           1.0|\n| 59945701|             Bastion|     play|           2.8|\n| 59945701|           Undertale| purchase|           1.0|\n| 59945701|           Undertale|     play|           2.6|\n| 59945701|Counter-Strike Gl...| purchase|           1.0|\n| 59945701|Counter-Strike Gl...|     play|           2.3|\n| 59945701|      Orcs Must Die!| purchase|           1.0|\n| 59945701|      Orcs Must Die!|     play|           0.7|\n+---------+--------------------+---------+--------------+\nonly showing top 100 rows\n\n"
     ]
    }
   ],
   "source": [
    "from pyspark.sql import SparkSession\n",
    "from pyspark.sql.functions import *\n",
    "from pyspark.sql.types import *\n",
    "mySchema = StructType ([\n",
    "    StructField(\"UserId\", IntegerType()),\n",
    "    StructField(\"GameName\", StringType()) ,\n",
    "    StructField(\"Behaviour\", StringType()),\n",
    "    StructField(\"PurchaseorPlay\", FloatType()),])\n",
    "SteamDf= spark.read.csv(\"/FileStore/tables/steam_200k.csv\",header = False, schema= mySchema)\n",
    "\n",
    "SteamDf.show(100)\n",
    " "
   ]
  },
  {
   "cell_type": "code",
   "execution_count": 0,
   "metadata": {
    "application/vnd.databricks.v1+cell": {
     "cellMetadata": {
      "byteLimit": 2048000,
      "rowLimit": 10000
     },
     "inputWidgets": {},
     "nuid": "0f149a59-a81a-4371-bae3-af24fa5f9d38",
     "showTitle": false,
     "title": ""
    }
   },
   "outputs": [
    {
     "output_type": "stream",
     "name": "stdout",
     "output_type": "stream",
     "text": [
      "Number of rows: 200000\nNumber of columns: 4\n"
     ]
    }
   ],
   "source": [
    "print(\"Number of rows:\", SteamDf.count())\n",
    "print(\"Number of columns:\", len(SteamDf.columns))"
   ]
  },
  {
   "cell_type": "code",
   "execution_count": 0,
   "metadata": {
    "application/vnd.databricks.v1+cell": {
     "cellMetadata": {
      "byteLimit": 2048000,
      "rowLimit": 10000
     },
     "inputWidgets": {},
     "nuid": "3efa71d7-6d2c-41a2-a7d0-42340d5a81d2",
     "showTitle": false,
     "title": ""
    }
   },
   "outputs": [
    {
     "output_type": "display_data",
     "data": {
      "text/html": [
       "<style scoped>\n",
       "  .table-result-container {\n",
       "    max-height: 300px;\n",
       "    overflow: auto;\n",
       "  }\n",
       "  table, th, td {\n",
       "    border: 1px solid black;\n",
       "    border-collapse: collapse;\n",
       "  }\n",
       "  th, td {\n",
       "    padding: 5px;\n",
       "  }\n",
       "  th {\n",
       "    text-align: left;\n",
       "  }\n",
       "</style><div class='table-result-container'><table class='table-result'><thead style='background-color: white'><tr><th>summary</th><th>UserId</th><th>GameName</th><th>Behaviour</th><th>PurchaseorPlay</th></tr></thead><tbody><tr><td>count</td><td>200000</td><td>200000</td><td>200000</td><td>200000</td></tr><tr><td>mean</td><td>1.0365586594664E8</td><td>140.0</td><td>null</td><td>17.874384000420385</td></tr><tr><td>stddev</td><td>7.208073512913968E7</td><td>0.0</td><td>null</td><td>138.05695165082415</td></tr><tr><td>min</td><td>5250</td><td>007 Legends</td><td>play</td><td>0.1</td></tr><tr><td>25%</td><td>47384202</td><td>140.0</td><td>null</td><td>1.0</td></tr><tr><td>50%</td><td>86912006</td><td>140.0</td><td>null</td><td>1.0</td></tr><tr><td>75%</td><td>154230933</td><td>140.0</td><td>null</td><td>1.3</td></tr><tr><td>max</td><td>309903146</td><td>theHunter Primal</td><td>purchase</td><td>11754.0</td></tr></tbody></table></div>"
      ]
     },
     "metadata": {
      "application/vnd.databricks.v1+output": {
       "addedWidgets": {},
       "aggData": [],
       "aggError": "",
       "aggOverflow": false,
       "aggSchema": [],
       "aggSeriesLimitReached": false,
       "aggType": "",
       "arguments": {},
       "columnCustomDisplayInfos": {},
       "data": [
        [
         "count",
         "200000",
         "200000",
         "200000",
         "200000"
        ],
        [
         "mean",
         "1.0365586594664E8",
         "140.0",
         null,
         "17.874384000420385"
        ],
        [
         "stddev",
         "7.208073512913968E7",
         "0.0",
         null,
         "138.05695165082415"
        ],
        [
         "min",
         "5250",
         "007 Legends",
         "play",
         "0.1"
        ],
        [
         "25%",
         "47384202",
         "140.0",
         null,
         "1.0"
        ],
        [
         "50%",
         "86912006",
         "140.0",
         null,
         "1.0"
        ],
        [
         "75%",
         "154230933",
         "140.0",
         null,
         "1.3"
        ],
        [
         "max",
         "309903146",
         "theHunter Primal",
         "purchase",
         "11754.0"
        ]
       ],
       "datasetInfos": [],
       "dbfsResultPath": null,
       "isJsonSchema": true,
       "metadata": {},
       "overflow": false,
       "plotOptions": {
        "customPlotOptions": {},
        "displayType": "table",
        "pivotAggregation": null,
        "pivotColumns": null,
        "xColumns": null,
        "yColumns": null
       },
       "removedWidgets": [],
       "schema": [
        {
         "metadata": "{}",
         "name": "summary",
         "type": "\"string\""
        },
        {
         "metadata": "{}",
         "name": "UserId",
         "type": "\"string\""
        },
        {
         "metadata": "{}",
         "name": "GameName",
         "type": "\"string\""
        },
        {
         "metadata": "{}",
         "name": "Behaviour",
         "type": "\"string\""
        },
        {
         "metadata": "{}",
         "name": "PurchaseorPlay",
         "type": "\"string\""
        }
       ],
       "type": "table"
      }
     },
     "output_type": "display_data"
    },
    {
     "output_type": "display_data",
     "data": {
      "text/plain": [
       "Databricks visualization. Run in Databricks to view."
      ]
     },
     "metadata": {
      "application/vnd.databricks.v1.subcommand+json": {
       "baseErrorDetails": null,
       "bindings": {},
       "collapsed": false,
       "command": "%python\n__backend_agg_display_orig = display\n__backend_agg_dfs = []\ndef __backend_agg_display_new(df):\n    __backend_agg_df_modules = [\"pandas.core.frame\", \"databricks.koalas.frame\", \"pyspark.sql.dataframe\", \"pyspark.pandas.frame\", \"pyspark.sql.connect.dataframe\"]\n    if (type(df).__module__ in __backend_agg_df_modules and type(df).__name__ == 'DataFrame') or isinstance(df, list):\n        __backend_agg_dfs.append(df)\n\ndisplay = __backend_agg_display_new\n\ndef __backend_agg_user_code_fn():\n    import base64\n    exec(base64.standard_b64decode(\"U3RlYW1EZi5zdW1tYXJ5KCkuZGlzcGxheSgp\").decode())\n\ntry:\n    # run user code\n    __backend_agg_user_code_fn()\n\n    #reset display function\n    display = __backend_agg_display_orig\n\n    if len(__backend_agg_dfs) > 0:\n        # create a temp view\n        if type(__backend_agg_dfs[0]).__module__ == \"databricks.koalas.frame\":\n            # koalas dataframe\n            __backend_agg_dfs[0].to_spark().createOrReplaceTempView(\"DatabricksVieweb34cca\")\n        elif type(__backend_agg_dfs[0]).__module__ == \"pandas.core.frame\" or isinstance(__backend_agg_dfs[0], list):\n            # pandas dataframe\n            spark.createDataFrame(__backend_agg_dfs[0]).createOrReplaceTempView(\"DatabricksVieweb34cca\")\n        else:\n            __backend_agg_dfs[0].createOrReplaceTempView(\"DatabricksVieweb34cca\")\n        #run backend agg\n        display(spark.sql(\"\"\"WITH q AS (select * from DatabricksVieweb34cca) SELECT `GameName`,COUNT(`summary`) `column_c68dd8d52`,`PurchaseorPlay` FROM q GROUP BY `GameName`,`PurchaseorPlay`\"\"\"))\n    else:\n        displayHTML(\"dataframe no longer exists. If you're using dataframe.display(), use display(dataframe) instead.\")\n\n\nfinally:\n    spark.sql(\"drop view if exists DatabricksVieweb34cca\")\n    display = __backend_agg_display_orig\n    del __backend_agg_display_new\n    del __backend_agg_display_orig\n    del __backend_agg_dfs\n    del __backend_agg_user_code_fn\n\n",
       "commandTitle": "Visualization 1",
       "commandType": "auto",
       "commandVersion": 0,
       "commentThread": [],
       "commentsVisible": false,
       "contentSha256Hex": null,
       "customPlotOptions": {
        "redashChart": [
         {
          "key": "type",
          "value": "CHART"
         },
         {
          "key": "options",
          "value": {
           "alignYAxesAtZero": true,
           "coefficient": 1,
           "columnConfigurationMap": {
            "series": {
             "column": "PurchaseorPlay",
             "id": "column_c68dd8d58"
            },
            "x": {
             "column": "PurchaseorPlay",
             "id": "column_c68dd8d510"
            },
            "y": [
             {
              "column": "summary",
              "id": "column_c68dd8d52",
              "transform": "COUNT"
             }
            ]
           },
           "dateTimeFormat": "DD/MM/YYYY HH:mm",
           "direction": {
            "type": "counterclockwise"
           },
           "error_y": {
            "type": "data",
            "visible": true
           },
           "globalSeriesType": "column",
           "isAggregationOn": true,
           "legend": {
            "traceorder": "normal"
           },
           "missingValuesAsZero": true,
           "numberFormat": "0,0.[00000]",
           "percentFormat": "0[.]00%",
           "series": {
            "error_y": {
             "type": "data",
             "visible": true
            },
            "stacking": null
           },
           "seriesOptions": {
            "column_c68dd8d52": {
             "type": "column",
             "yAxis": 0
            }
           },
           "showDataLabels": false,
           "sizemode": "diameter",
           "sortX": true,
           "sortY": true,
           "swappedAxes": false,
           "textFormat": "",
           "useAggregationsUi": true,
           "valuesOptions": {},
           "version": 2,
           "xAxis": {
            "labels": {
             "enabled": true
            },
            "type": "-"
           },
           "yAxis": [
            {
             "type": "-"
            },
            {
             "opposite": true,
             "type": "-"
            }
           ]
          }
         }
        ]
       },
       "datasetPreviewNameToCmdIdMap": {},
       "diffDeletes": [],
       "diffInserts": [],
       "displayType": "redashChart",
       "error": null,
       "errorDetails": null,
       "errorSummary": null,
       "errorTraceType": null,
       "finishTime": 0,
       "globalVars": {},
       "guid": "",
       "height": "auto",
       "hideCommandCode": false,
       "hideCommandResult": false,
       "iPythonMetadata": null,
       "inputWidgets": {},
       "isLockedInExamMode": false,
       "latestUser": "a user",
       "latestUserId": null,
       "listResultMetadata": null,
       "metadata": {},
       "nuid": "a29f3ffe-6a23-46e3-8942-2d395bd17d68",
       "origId": 0,
       "parentHierarchy": [],
       "pivotAggregation": null,
       "pivotColumns": null,
       "position": 3.25,
       "resultDbfsErrorMessage": null,
       "resultDbfsStatus": "INLINED_IN_TREE",
       "results": null,
       "showCommandTitle": false,
       "startTime": 0,
       "state": "input",
       "streamStates": {},
       "subcommandOptions": {
        "queryPlan": {
         "groups": [
          {
           "column": "PurchaseorPlay",
           "type": "column"
          },
          {
           "column": "PurchaseorPlay",
           "type": "column"
          }
         ],
         "selects": [
          {
           "column": "PurchaseorPlay",
           "type": "column"
          },
          {
           "alias": "column_c68dd8d52",
           "args": [
            {
             "column": "summary",
             "type": "column"
            }
           ],
           "function": "COUNT",
           "type": "function"
          },
          {
           "column": "PurchaseorPlay",
           "type": "column"
          }
         ]
        }
       },
       "submitTime": 0,
       "subtype": "tableResultSubCmd.visualization",
       "tableResultIndex": 0,
       "useConsistentColors": false,
       "version": "CommandV1",
       "width": "auto",
       "workflows": [],
       "xColumns": null,
       "yColumns": null
      }
     },
     "output_type": "display_data"
    }
   ],
   "source": [
    "SteamDf.summary().display()"
   ]
  },
  {
   "cell_type": "code",
   "execution_count": 0,
   "metadata": {
    "application/vnd.databricks.v1+cell": {
     "cellMetadata": {
      "byteLimit": 2048000,
      "rowLimit": 10000
     },
     "inputWidgets": {},
     "nuid": "3e0f50e3-6700-4589-9c5f-203cad3d5c25",
     "showTitle": false,
     "title": ""
    }
   },
   "outputs": [
    {
     "output_type": "stream",
     "name": "stdout",
     "output_type": "stream",
     "text": [
      "Columns with null values: []\n"
     ]
    }
   ],
   "source": [
    "from pyspark.sql.functions import col\n",
    "\n",
    "columns_with_null = [col_name for col_name in SteamDf.columns if SteamDf.filter(col(col_name).isNull()).count() > 0]\n",
    "\n",
    "print(\"Columns with null values:\", columns_with_null)\n"
   ]
  },
  {
   "cell_type": "code",
   "execution_count": 0,
   "metadata": {
    "application/vnd.databricks.v1+cell": {
     "cellMetadata": {
      "byteLimit": 2048000,
      "rowLimit": 10000
     },
     "inputWidgets": {},
     "nuid": "d76342bd-beb2-4ed1-ba06-68b1af24ec5d",
     "showTitle": false,
     "title": ""
    }
   },
   "outputs": [
    {
     "output_type": "stream",
     "name": "stdout",
     "output_type": "stream",
     "text": [
      "+---------+--------------------+---------+--------------+\n|   UserId|            GameName|Behaviour|PurchaseorPlay|\n+---------+--------------------+---------+--------------+\n|151603712|The Elder Scrolls...| purchase|           1.0|\n|151603712|The Elder Scrolls...|     play|         273.0|\n|151603712|           Fallout 4| purchase|           1.0|\n|151603712|           Fallout 4|     play|          87.0|\n|151603712|               Spore| purchase|           1.0|\n|151603712|               Spore|     play|          14.9|\n|151603712|   Fallout New Vegas| purchase|           1.0|\n|151603712|   Fallout New Vegas|     play|          12.1|\n|151603712|       Left 4 Dead 2| purchase|           1.0|\n|151603712|       Left 4 Dead 2|     play|           8.9|\n|151603712|            HuniePop| purchase|           1.0|\n|151603712|            HuniePop|     play|           8.5|\n|151603712|       Path of Exile| purchase|           1.0|\n|151603712|       Path of Exile|     play|           8.1|\n|151603712|         Poly Bridge| purchase|           1.0|\n|151603712|         Poly Bridge|     play|           7.5|\n|151603712|         Left 4 Dead| purchase|           1.0|\n|151603712|         Left 4 Dead|     play|           3.3|\n|151603712|     Team Fortress 2| purchase|           1.0|\n|151603712|     Team Fortress 2|     play|           2.8|\n|151603712|         Tomb Raider| purchase|           1.0|\n|151603712|         Tomb Raider|     play|           2.5|\n|151603712|     The Banner Saga| purchase|           1.0|\n|151603712|     The Banner Saga|     play|           2.0|\n|151603712|Dead Island Epidemic| purchase|           1.0|\n|151603712|Dead Island Epidemic|     play|           1.4|\n|151603712|   BioShock Infinite| purchase|           1.0|\n|151603712|   BioShock Infinite|     play|           1.3|\n|151603712|Dragon Age Origin...| purchase|           1.0|\n|151603712|Dragon Age Origin...|     play|           1.3|\n|151603712|Fallout 3 - Game ...| purchase|           1.0|\n|151603712|Fallout 3 - Game ...|     play|           0.8|\n|151603712|SEGA Genesis & Me...| purchase|           1.0|\n|151603712|SEGA Genesis & Me...|     play|           0.8|\n|151603712| Grand Theft Auto IV| purchase|           1.0|\n|151603712| Grand Theft Auto IV|     play|           0.6|\n|151603712|Realm of the Mad God| purchase|           1.0|\n|151603712|Realm of the Mad God|     play|           0.5|\n|151603712|  Marvel Heroes 2015| purchase|           1.0|\n|151603712|  Marvel Heroes 2015|     play|           0.5|\n|151603712|             Eldevin| purchase|           1.0|\n|151603712|             Eldevin|     play|           0.5|\n|151603712|              Dota 2| purchase|           1.0|\n|151603712|              Dota 2|     play|           0.5|\n|151603712|            BioShock| purchase|           1.0|\n|151603712|            BioShock|     play|           0.5|\n|151603712|           Robocraft| purchase|           1.0|\n|151603712|           Robocraft|     play|           0.4|\n|151603712|         Garry's Mod| purchase|           1.0|\n|151603712|         Garry's Mod|     play|           0.1|\n|151603712|            Jazzpunk| purchase|           1.0|\n|151603712|            Jazzpunk|     play|           0.1|\n|151603712|           Alan Wake| purchase|           1.0|\n|151603712|          BioShock 2| purchase|           1.0|\n|151603712|        Fallen Earth| purchase|           1.0|\n|151603712|Fallout New Vegas...| purchase|           1.0|\n|151603712|Fallout New Vegas...| purchase|           1.0|\n|151603712|Fallout New Vegas...| purchase|           1.0|\n|151603712|Grand Theft Auto ...| purchase|           1.0|\n|151603712|   Hitman Absolution| purchase|           1.0|\n|151603712|HuniePop Official...| purchase|           1.0|\n|151603712|HuniePop Original...| purchase|           1.0|\n|151603712|The Banner Saga -...| purchase|           1.0|\n|151603712|The Elder Scrolls...| purchase|           1.0|\n|151603712|The Elder Scrolls...| purchase|           1.0|\n|151603712|The Elder Scrolls...| purchase|           1.0|\n|187131847|              Dota 2| purchase|           1.0|\n|187131847|              Dota 2|     play|           2.3|\n| 59945701|Ultra Street Figh...| purchase|           1.0|\n| 59945701|Ultra Street Figh...|     play|         238.0|\n| 59945701|  FINAL FANTASY XIII| purchase|           1.0|\n| 59945701|  FINAL FANTASY XIII|     play|          84.0|\n| 59945701|The Elder Scrolls...| purchase|           1.0|\n| 59945701|The Elder Scrolls...|     play|          58.0|\n| 59945701|Sid Meier's Civil...| purchase|           1.0|\n| 59945701|Sid Meier's Civil...|     play|          22.0|\n| 59945701|          L.A. Noire| purchase|           1.0|\n| 59945701|          L.A. Noire|     play|          13.8|\n| 59945701|Company of Heroes...| purchase|           1.0|\n| 59945701|Company of Heroes...|     play|          10.2|\n| 59945701|       7 Days to Die| purchase|           1.0|\n| 59945701|       7 Days to Die|     play|           7.8|\n| 59945701|            Divekick| purchase|           1.0|\n| 59945701|            Divekick|     play|           7.0|\n| 59945701|   FINAL FANTASY VII| purchase|           1.0|\n| 59945701|   FINAL FANTASY VII|     play|           5.2|\n| 59945701|    Orcs Must Die! 2| purchase|           1.0|\n| 59945701|    Orcs Must Die! 2|     play|           4.8|\n| 59945701|       Killing Floor| purchase|           1.0|\n| 59945701|       Killing Floor|     play|           3.4|\n| 59945701|   Company of Heroes| purchase|           1.0|\n| 59945701|   Company of Heroes|     play|           3.2|\n| 59945701|             Bastion| purchase|           1.0|\n| 59945701|             Bastion|     play|           2.8|\n| 59945701|           Undertale| purchase|           1.0|\n| 59945701|           Undertale|     play|           2.6|\n| 59945701|Counter-Strike Gl...| purchase|           1.0|\n| 59945701|Counter-Strike Gl...|     play|           2.3|\n| 59945701|      Orcs Must Die!| purchase|           1.0|\n| 59945701|      Orcs Must Die!|     play|           0.7|\n+---------+--------------------+---------+--------------+\nonly showing top 100 rows\n\n"
     ]
    }
   ],
   "source": [
    "SteamDf= SteamDf.dropna()\n",
    "SteamDf.show(100)"
   ]
  },
  {
   "cell_type": "code",
   "execution_count": 0,
   "metadata": {
    "application/vnd.databricks.v1+cell": {
     "cellMetadata": {
      "byteLimit": 2048000,
      "rowLimit": 10000
     },
     "inputWidgets": {},
     "nuid": "90ee1cf3-b5aa-4083-b654-5846562e014a",
     "showTitle": false,
     "title": ""
    }
   },
   "outputs": [],
   "source": [
    "from pyspark.sql.functions import monotonically_increasing_id\n",
    "unique_games = SteamDf.select(\"GameName\").distinct()\n",
    "game_id_mapping = unique_games.withColumn(\"GameID\", monotonically_increasing_id())\n",
    "NewSteamDF = SteamDf.join(game_id_mapping, on=\"GameName\", how=\"left\")"
   ]
  },
  {
   "cell_type": "code",
   "execution_count": 0,
   "metadata": {
    "application/vnd.databricks.v1+cell": {
     "cellMetadata": {
      "byteLimit": 2048000,
      "rowLimit": 10000
     },
     "inputWidgets": {},
     "nuid": "dc0cbc17-971d-4ffa-a3ac-0a205437c84e",
     "showTitle": false,
     "title": ""
    }
   },
   "outputs": [
    {
     "output_type": "stream",
     "name": "stdout",
     "output_type": "stream",
     "text": [
      "+--------------------+---------+---------+--------------+------+\n|            GameName|   UserId|Behaviour|PurchaseorPlay|GameID|\n+--------------------+---------+---------+--------------+------+\n|The Elder Scrolls...|151603712| purchase|           1.0|  2609|\n|The Elder Scrolls...|151603712|     play|         273.0|  2609|\n|           Fallout 4|151603712| purchase|           1.0|   410|\n|           Fallout 4|151603712|     play|          87.0|   410|\n|               Spore|151603712| purchase|           1.0|  3868|\n|               Spore|151603712|     play|          14.9|  3868|\n|   Fallout New Vegas|151603712| purchase|           1.0|  3820|\n|   Fallout New Vegas|151603712|     play|          12.1|  3820|\n|       Left 4 Dead 2|151603712| purchase|           1.0|    69|\n|       Left 4 Dead 2|151603712|     play|           8.9|    69|\n|            HuniePop|151603712| purchase|           1.0|  3340|\n|            HuniePop|151603712|     play|           8.5|  3340|\n|       Path of Exile|151603712| purchase|           1.0|  1562|\n|       Path of Exile|151603712|     play|           8.1|  1562|\n|         Poly Bridge|151603712| purchase|           1.0|  4116|\n|         Poly Bridge|151603712|     play|           7.5|  4116|\n|         Left 4 Dead|151603712| purchase|           1.0|  1992|\n|         Left 4 Dead|151603712|     play|           3.3|  1992|\n|     Team Fortress 2|151603712| purchase|           1.0|  3893|\n|     Team Fortress 2|151603712|     play|           2.8|  3893|\n+--------------------+---------+---------+--------------+------+\nonly showing top 20 rows\n\n"
     ]
    }
   ],
   "source": [
    "NewSteamDF.show()"
   ]
  },
  {
   "cell_type": "code",
   "execution_count": 0,
   "metadata": {
    "application/vnd.databricks.v1+cell": {
     "cellMetadata": {
      "byteLimit": 2048000,
      "rowLimit": 10000
     },
     "inputWidgets": {},
     "nuid": "a658ae72-486b-492b-9a7e-54dee2bab059",
     "showTitle": false,
     "title": ""
    }
   },
   "outputs": [
    {
     "output_type": "stream",
     "name": "stdout",
     "output_type": "stream",
     "text": [
      "+--------------------+---------+---------+--------------+------+\n|            GameName|   UserId|Behaviour|PurchaseorPlay|GameID|\n+--------------------+---------+---------+--------------+------+\n|The Elder Scrolls...|151603712| purchase|           1.0|  2609|\n|The Elder Scrolls...|151603712|     play|         273.0|  2609|\n|           Fallout 4|151603712| purchase|           1.0|   410|\n|           Fallout 4|151603712|     play|          87.0|   410|\n|               Spore|151603712| purchase|           1.0|  3868|\n|               Spore|151603712|     play|          14.9|  3868|\n|   Fallout New Vegas|151603712| purchase|           1.0|  3820|\n|   Fallout New Vegas|151603712|     play|          12.1|  3820|\n|       Left 4 Dead 2|151603712| purchase|           1.0|    69|\n|       Left 4 Dead 2|151603712|     play|           8.9|    69|\n|            HuniePop|151603712| purchase|           1.0|  3340|\n|            HuniePop|151603712|     play|           8.5|  3340|\n|       Path of Exile|151603712| purchase|           1.0|  1562|\n|       Path of Exile|151603712|     play|           8.1|  1562|\n|         Poly Bridge|151603712| purchase|           1.0|  4116|\n|         Poly Bridge|151603712|     play|           7.5|  4116|\n|         Left 4 Dead|151603712| purchase|           1.0|  1992|\n|         Left 4 Dead|151603712|     play|           3.3|  1992|\n|     Team Fortress 2|151603712| purchase|           1.0|  3893|\n|     Team Fortress 2|151603712|     play|           2.8|  3893|\n+--------------------+---------+---------+--------------+------+\nonly showing top 20 rows\n\n"
     ]
    }
   ],
   "source": [
    "from pyspark.sql.functions import monotonically_increasing_id\n",
    "from pyspark.sql.types import IntegerType\n",
    "unique_games = SteamDf.select(\"GameName\").distinct()\n",
    "game_id_mapping = unique_games.withColumn(\"GameID\", monotonically_increasing_id())\n",
    "NewSteamDF = SteamDf.join(game_id_mapping, on=\"GameName\", how=\"left\")\n",
    "NewSteamDF = NewSteamDF.withColumn(\"GameID\", NewSteamDF[\"GameID\"].cast(IntegerType()))\n",
    "\n",
    "NewSteamDF.show()\n"
   ]
  },
  {
   "cell_type": "code",
   "execution_count": 0,
   "metadata": {
    "application/vnd.databricks.v1+cell": {
     "cellMetadata": {
      "byteLimit": 2048000,
      "rowLimit": 10000
     },
     "inputWidgets": {},
     "nuid": "2a53c194-1077-4a26-90b7-ec8cf5f07cc8",
     "showTitle": false,
     "title": ""
    }
   },
   "outputs": [
    {
     "output_type": "stream",
     "name": "stderr",
     "output_type": "stream",
     "text": [
      "2024/05/01 18:59:16 INFO mlflow.utils.autologging_utils: Created MLflow autologging run with ID 'b5a9e9f2622c48279ef248937c3a1233', which will track hyperparameters, performance metrics, model artifacts, and lineage information for the current pyspark.ml workflow\n"
     ]
    },
    {
     "output_type": "stream",
     "name": "stdout",
     "output_type": "stream",
     "text": [
      "+--------------------+---------+---------+--------------+------+--------------------+\n|            GameName|   UserId|Behaviour|PurchaseorPlay|GameID|            features|\n+--------------------+---------+---------+--------------+------+--------------------+\n|The Elder Scrolls...|151603712| purchase|           1.0|  2609|(5158,[8,5154,515...|\n|The Elder Scrolls...|151603712|     play|         273.0|  2609|(5158,[8,5154,515...|\n|           Fallout 4|151603712| purchase|           1.0|   410|(5158,[100,5154,5...|\n|           Fallout 4|151603712|     play|          87.0|   410|(5158,[100,5154,5...|\n|               Spore|151603712| purchase|           1.0|  3868|(5158,[332,5154,5...|\n|               Spore|151603712|     play|          14.9|  3868|(5158,[332,5154,5...|\n|   Fallout New Vegas|151603712| purchase|           1.0|  3820|(5158,[29,5154,51...|\n|   Fallout New Vegas|151603712|     play|          12.1|  3820|(5158,[29,5154,51...|\n|       Left 4 Dead 2|151603712| purchase|           1.0|    69|(5158,[4,5154,515...|\n|       Left 4 Dead 2|151603712|     play|           8.9|    69|(5158,[4,5154,515...|\n|            HuniePop|151603712| purchase|           1.0|  3340|(5158,[867,5154,5...|\n|            HuniePop|151603712|     play|           8.5|  3340|(5158,[867,5154,5...|\n|       Path of Exile|151603712| purchase|           1.0|  1562|(5158,[39,5154,51...|\n|       Path of Exile|151603712|     play|           8.1|  1562|(5158,[39,5154,51...|\n|         Poly Bridge|151603712| purchase|           1.0|  4116|(5158,[1347,5154,...|\n|         Poly Bridge|151603712|     play|           7.5|  4116|(5158,[1347,5154,...|\n|         Left 4 Dead|151603712| purchase|           1.0|  1992|(5158,[49,5154,51...|\n|         Left 4 Dead|151603712|     play|           3.3|  1992|(5158,[49,5154,51...|\n|     Team Fortress 2|151603712| purchase|           1.0|  3893|(5158,[1,5154,515...|\n|     Team Fortress 2|151603712|     play|           2.8|  3893|(5158,[1,5154,515...|\n+--------------------+---------+---------+--------------+------+--------------------+\nonly showing top 20 rows\n\n"
     ]
    }
   ],
   "source": [
    "from pyspark.ml.feature import RFormula\n",
    "formula = \"Faulle_detected ~ .\"\n",
    "preprocess = RFormula(formula=formula)\n",
    "preprocessed_data = preprocess.fit(NewSteamDF).transform(NewSteamDF)\n",
    "preprocessed_data.show()\n"
   ]
  },
  {
   "cell_type": "code",
   "execution_count": 0,
   "metadata": {
    "application/vnd.databricks.v1+cell": {
     "cellMetadata": {
      "byteLimit": 2048000,
      "rowLimit": 10000
     },
     "inputWidgets": {},
     "nuid": "5d59925e-0ae7-4031-80bf-5834778dfe39",
     "showTitle": false,
     "title": ""
    }
   },
   "outputs": [
    {
     "output_type": "stream",
     "name": "stdout",
     "output_type": "stream",
     "text": [
      "+--------------------+---------+---------+--------------+------+--------------------+\n|            GameName|   UserId|Behaviour|PurchaseorPlay|GameID|            features|\n+--------------------+---------+---------+--------------+------+--------------------+\n|The Elder Scrolls...|151603712|     play|         273.0|  2609|(5158,[8,5154,515...|\n|           Fallout 4|151603712|     play|          87.0|   410|(5158,[100,5154,5...|\n|               Spore|151603712|     play|          14.9|  3868|(5158,[332,5154,5...|\n|   Fallout New Vegas|151603712|     play|          12.1|  3820|(5158,[29,5154,51...|\n|       Left 4 Dead 2|151603712|     play|           8.9|    69|(5158,[4,5154,515...|\n|            HuniePop|151603712|     play|           8.5|  3340|(5158,[867,5154,5...|\n|       Path of Exile|151603712|     play|           8.1|  1562|(5158,[39,5154,51...|\n|         Poly Bridge|151603712|     play|           7.5|  4116|(5158,[1347,5154,...|\n|         Left 4 Dead|151603712|     play|           3.3|  1992|(5158,[49,5154,51...|\n|     Team Fortress 2|151603712|     play|           2.8|  3893|(5158,[1,5154,515...|\n|         Tomb Raider|151603712|     play|           2.5|  1754|(5158,[55,5154,51...|\n|     The Banner Saga|151603712|     play|           2.0|  3341|(5158,[604,5154,5...|\n|Dead Island Epidemic|151603712|     play|           1.4|  3540|(5158,[51,5154,51...|\n|   BioShock Infinite|151603712|     play|           1.3|  2392|(5158,[42,5154,51...|\n|Dragon Age Origin...|151603712|     play|           1.3|   653|(5158,[301,5154,5...|\n|Fallout 3 - Game ...|151603712|     play|           0.8|  4023|(5158,[152,5154,5...|\n|SEGA Genesis & Me...|151603712|     play|           0.8|  3273|(5158,[655,5154,5...|\n| Grand Theft Auto IV|151603712|     play|           0.6|  3517|(5158,[43,5154,51...|\n|Realm of the Mad God|151603712|     play|           0.5|  2119|(5158,[134,5154,5...|\n|  Marvel Heroes 2015|151603712|     play|           0.5|  3541|(5158,[73,5154,51...|\n|             Eldevin|151603712|     play|           0.5|  3797|(5158,[881,5154,5...|\n|              Dota 2|151603712|     play|           0.5|     0|(5158,[0,5154,515...|\n|            BioShock|151603712|     play|           0.5|  2096|(5158,[86,5154,51...|\n|           Robocraft|151603712|     play|           0.4|  2610|(5158,[12,5154,51...|\n|         Garry's Mod|151603712|     play|           0.1|  2669|(5158,[7,5154,515...|\n|            Jazzpunk|151603712|     play|           0.1|   625|(5158,[1335,5154,...|\n|              Dota 2|187131847|     play|           2.3|     0|(5158,[0,5154,515...|\n|Ultra Street Figh...| 59945701|     play|         238.0|  3849|(5158,[458,5154,5...|\n|  FINAL FANTASY XIII| 59945701|     play|          84.0|  3894|(5158,[751,5154,5...|\n|The Elder Scrolls...| 59945701|     play|          58.0|  2609|(5158,[8,5154,515...|\n|Sid Meier's Civil...| 59945701|     play|          22.0|   962|(5158,[11,5154,51...|\n|          L.A. Noire| 59945701|     play|          13.8|  1542|(5158,[249,5154,5...|\n|Company of Heroes...| 59945701|     play|          10.2|  1792|(5158,[251,5154,5...|\n|       7 Days to Die| 59945701|     play|           7.8|  2240|(5158,[197,5154,5...|\n|            Divekick| 59945701|     play|           7.0|   535|(5158,[1880,5154,...|\n|   FINAL FANTASY VII| 59945701|     play|           5.2|  2352|(5158,[292,5154,5...|\n|    Orcs Must Die! 2| 59945701|     play|           4.8|  1965|(5158,[169,5154,5...|\n|       Killing Floor| 59945701|     play|           3.4|  1652|(5158,[77,5154,51...|\n|   Company of Heroes| 59945701|     play|           3.2|  1563|(5158,[154,5154,5...|\n|             Bastion| 59945701|     play|           2.8|  4214|(5158,[147,5154,5...|\n|           Undertale| 59945701|     play|           2.6|  3938|(5158,[582,5154,5...|\n|Counter-Strike Gl...| 59945701|     play|           2.3|  2353|(5158,[2,5154,515...|\n|      Orcs Must Die!| 59945701|     play|           0.7|  3212|(5158,[269,5154,5...|\n|THE KING OF FIGHT...| 59945701|     play|           0.6|  2120|(5158,[703,5154,5...|\n|GUILTY GEAR XX AC...| 59945701|     play|           0.5|  3542|(5158,[4028,5154,...|\n|          Skullgirls| 59945701|     play|           0.4|   464|(5158,[550,5154,5...|\n| Assassin's Creed II| 59945701|     play|           0.3|  1035|(5158,[294,5154,5...|\n|Company of Heroes...| 59945701|     play|           0.1|  4169|(5158,[230,5154,5...|\n|     Team Fortress 2| 59945701|     play|           0.1|  3893|(5158,[1,5154,515...|\n|  Grand Theft Auto V| 53875128|     play|          86.0|  1564|(5158,[36,5154,51...|\n|          Insurgency| 53875128|     play|          72.0|  2443|(5158,[99,5154,51...|\n|       Left 4 Dead 2| 53875128|     play|          71.0|    69|(5158,[4,5154,515...|\n|METAL GEAR SOLID ...| 53875128|     play|          59.0|     1|(5158,[312,5154,5...|\n|S.T.A.L.K.E.R. Sh...| 53875128|     play|          54.0|   382|(5158,[446,5154,5...|\n|S.T.A.L.K.E.R. Ca...| 53875128|     play|          50.0|  1061|(5158,[544,5154,5...|\n|Saints Row The Third| 53875128|     play|          35.0|   511|(5158,[56,5154,51...|\n|           Far Cry 3| 53875128|     play|          35.0|  4118|(5158,[81,5154,51...|\n|S.T.A.L.K.E.R. Cl...| 53875128|     play|          35.0|  2193|(5158,[811,5154,5...|\n|       Rocket League| 53875128|     play|          34.0|  2414|(5158,[116,5154,5...|\n| Assassin's Creed II| 53875128|     play|          33.0|  1035|(5158,[294,5154,5...|\n|           Far Cry 4| 53875128|     play|          32.0|   361|(5158,[540,5154,5...|\n|           Prototype| 53875128|     play|          25.0|   288|(5158,[725,5154,5...|\n|Space Pirates and...| 53875128|     play|          24.0|   289|(5158,[530,5154,5...|\n|         Dying Light| 53875128|     play|          23.0|  3274|(5158,[245,5154,5...|\n|        Just Cause 2| 53875128|     play|          23.0|  2631|(5158,[64,5154,51...|\n|       Mirror's Edge| 53875128|     play|          23.0|  1857|(5158,[115,5154,5...|\n|             Mad Max| 53875128|     play|          22.0|  2121|(5158,[738,5154,5...|\n|            Portal 2| 53875128|     play|          21.0|  1017|(5158,[15,5154,51...|\n|Deus Ex Human Rev...| 53875128|     play|          21.0|   779|(5158,[118,5154,5...|\n|Middle-earth Shad...| 53875128|     play|          19.6|   411|(5158,[185,5154,5...|\n| RUNNING WITH RIFLES| 53875128|     play|          18.5|  1447|(5158,[2567,5154,...|\n|Deus Ex Human Rev...| 53875128|     play|          18.3|  1993|(5158,[273,5154,5...|\n|Batman Arkham Cit...| 53875128|     play|          16.9|   290|(5158,[106,5154,5...|\n|           Tropico 4| 53875128|     play|          14.3|   654|(5158,[258,5154,5...|\n|         Cave Story+| 53875128|     play|          13.7|  2133|(5158,[513,5154,5...|\n|Dust An Elysian Tail| 53875128|     play|          13.4|    16|(5158,[338,5154,5...|\n|            F.E.A.R.| 53875128|     play|          12.5|  2444|(5158,[412,5154,5...|\n|South Park The St...| 53875128|     play|          12.2|   594|(5158,[192,5154,5...|\n|       Sleeping Dogs| 53875128|     play|          11.5|  4235|(5158,[206,5154,5...|\n|          Watch_Dogs| 53875128|     play|          11.2|  1286|(5158,[491,5154,5...|\n|       Saints Row IV| 53875128|     play|          11.1|  3114|(5158,[119,5154,5...|\n|                DayZ| 53875128|     play|          11.0|   344|(5158,[47,5154,51...|\n|         Half-Life 2| 53875128|     play|          10.2|   345|(5158,[16,5154,51...|\n|          Reassembly| 53875128|     play|          10.1|  1653|(5158,[1998,5154,...|\n|Sid Meier's Civil...| 53875128|     play|           9.8|   963|(5158,[402,5154,5...|\n| The Talos Principle| 53875128|     play|           9.8|   412|(5158,[730,5154,5...|\n|              DiRT 3| 53875128|     play|           9.7|  1740|(5158,[350,5154,5...|\n|FTL Faster Than L...| 53875128|     play|           9.7|  2194|(5158,[126,5154,5...|\n|             Bastion| 53875128|     play|           9.6|  4214|(5158,[147,5154,5...|\n|Age of Empires II...| 53875128|     play|           9.0|  4068|(5158,[61,5154,51...|\n|Batman Arkham Asy...| 53875128|     play|           8.9|  1719|(5158,[121,5154,5...|\n|            Gunpoint| 53875128|     play|           8.6|  2079|(5158,[450,5154,5...|\n|Rebuild 3 Gangs o...| 53875128|     play|           8.4|  2279|(5158,[4274,5154,...|\n|Recettear An Item...| 53875128|     play|           8.3|  4334|(5158,[922,5154,5...|\n|          Metro 2033| 53875128|     play|           7.8|  3433|(5158,[48,5154,51...|\n|              Monaco| 53875128|     play|           7.6|  2158|(5158,[256,5154,5...|\n|   Fallout New Vegas| 53875128|     play|           7.5|  3820|(5158,[29,5154,51...|\n|          Overgrowth| 53875128|     play|           7.3|   813|(5158,[2080,5154,...|\n|Assassin's Creed III| 53875128|     play|           7.2|  3983|(5158,[322,5154,5...|\n|Ori and the Blind...| 53875128|     play|           7.0|  4141|(5158,[612,5154,5...|\n+--------------------+---------+---------+--------------+------+--------------------+\nonly showing top 100 rows\n\n"
     ]
    }
   ],
   "source": [
    "NewSteamDFPlay = preprocessed_data.filter(col('Behaviour') == 'play')\n",
    "NewSteamDFPlay.show(100)"
   ]
  },
  {
   "cell_type": "code",
   "execution_count": 0,
   "metadata": {
    "application/vnd.databricks.v1+cell": {
     "cellMetadata": {
      "byteLimit": 2048000,
      "rowLimit": 10000
     },
     "inputWidgets": {},
     "nuid": "0c6dafdf-174b-4a8c-831d-0f45867f3dec",
     "showTitle": false,
     "title": ""
    }
   },
   "outputs": [
    {
     "output_type": "stream",
     "name": "stdout",
     "output_type": "stream",
     "text": [
      "+--------------------+---------+---------+--------------+------+\n|            GameName|   UserId|Behaviour|PurchaseorPlay|GameID|\n+--------------------+---------+---------+--------------+------+\n|The Elder Scrolls...|151603712| purchase|           1.0|  2609|\n|           Fallout 4|151603712| purchase|           1.0|   410|\n|               Spore|151603712| purchase|           1.0|  3868|\n|   Fallout New Vegas|151603712| purchase|           1.0|  3820|\n|       Left 4 Dead 2|151603712| purchase|           1.0|    69|\n|            HuniePop|151603712| purchase|           1.0|  3340|\n|       Path of Exile|151603712| purchase|           1.0|  1562|\n|         Poly Bridge|151603712| purchase|           1.0|  4116|\n|         Left 4 Dead|151603712| purchase|           1.0|  1992|\n|     Team Fortress 2|151603712| purchase|           1.0|  3893|\n|         Tomb Raider|151603712| purchase|           1.0|  1754|\n|     The Banner Saga|151603712| purchase|           1.0|  3341|\n|Dead Island Epidemic|151603712| purchase|           1.0|  3540|\n|   BioShock Infinite|151603712| purchase|           1.0|  2392|\n|Dragon Age Origin...|151603712| purchase|           1.0|   653|\n|Fallout 3 - Game ...|151603712| purchase|           1.0|  4023|\n|SEGA Genesis & Me...|151603712| purchase|           1.0|  3273|\n| Grand Theft Auto IV|151603712| purchase|           1.0|  3517|\n|Realm of the Mad God|151603712| purchase|           1.0|  2119|\n|  Marvel Heroes 2015|151603712| purchase|           1.0|  3541|\n|             Eldevin|151603712| purchase|           1.0|  3797|\n|              Dota 2|151603712| purchase|           1.0|     0|\n|            BioShock|151603712| purchase|           1.0|  2096|\n|           Robocraft|151603712| purchase|           1.0|  2610|\n|         Garry's Mod|151603712| purchase|           1.0|  2669|\n|            Jazzpunk|151603712| purchase|           1.0|   625|\n|           Alan Wake|151603712| purchase|           1.0|  1285|\n|          BioShock 2|151603712| purchase|           1.0|  1177|\n|        Fallen Earth|151603712| purchase|           1.0|  4024|\n|Fallout New Vegas...|151603712| purchase|           1.0|  2306|\n|Fallout New Vegas...|151603712| purchase|           1.0|  3496|\n|Fallout New Vegas...|151603712| purchase|           1.0|  3623|\n|Grand Theft Auto ...|151603712| purchase|           1.0|  3717|\n|   Hitman Absolution|151603712| purchase|           1.0|   739|\n|HuniePop Official...|151603712| purchase|           1.0|  4117|\n|HuniePop Original...|151603712| purchase|           1.0|  1034|\n|The Banner Saga -...|151603712| purchase|           1.0|   980|\n|The Elder Scrolls...|151603712| purchase|           1.0|  3404|\n|The Elder Scrolls...|151603712| purchase|           1.0|  2192|\n|The Elder Scrolls...|151603712| purchase|           1.0|    42|\n|              Dota 2|187131847| purchase|           1.0|     0|\n|Ultra Street Figh...| 59945701| purchase|           1.0|  3849|\n|  FINAL FANTASY XIII| 59945701| purchase|           1.0|  3894|\n|The Elder Scrolls...| 59945701| purchase|           1.0|  2609|\n|Sid Meier's Civil...| 59945701| purchase|           1.0|   962|\n|          L.A. Noire| 59945701| purchase|           1.0|  1542|\n|Company of Heroes...| 59945701| purchase|           1.0|  1792|\n|       7 Days to Die| 59945701| purchase|           1.0|  2240|\n|            Divekick| 59945701| purchase|           1.0|   535|\n|   FINAL FANTASY VII| 59945701| purchase|           1.0|  2352|\n|    Orcs Must Die! 2| 59945701| purchase|           1.0|  1965|\n|       Killing Floor| 59945701| purchase|           1.0|  1652|\n|   Company of Heroes| 59945701| purchase|           1.0|  1563|\n|             Bastion| 59945701| purchase|           1.0|  4214|\n|           Undertale| 59945701| purchase|           1.0|  3938|\n|Counter-Strike Gl...| 59945701| purchase|           1.0|  2353|\n|      Orcs Must Die!| 59945701| purchase|           1.0|  3212|\n|THE KING OF FIGHT...| 59945701| purchase|           1.0|  2120|\n|GUILTY GEAR XX AC...| 59945701| purchase|           1.0|  3542|\n|          Skullgirls| 59945701| purchase|           1.0|   464|\n| Assassin's Creed II| 59945701| purchase|           1.0|  1035|\n|Company of Heroes...| 59945701| purchase|           1.0|  4169|\n|     Team Fortress 2| 59945701| purchase|           1.0|  3893|\n|Guilty Gear X2 #R...| 59945701| purchase|           1.0|  2464|\n|       Left 4 Dead 2| 59945701| purchase|           1.0|    69|\n|         Psychonauts| 59945701| purchase|           1.0|  1966|\n|  Cities in Motion 2| 59945701| purchase|           1.0|  2730|\n|Company of Heroes...| 59945701| purchase|           1.0|  2867|\n| Company of Heroes 2| 59945701| purchase|           1.0|   560|\n|   Fallout New Vegas| 59945701| purchase|           1.0|  3820|\n|Fallout New Vegas...| 59945701| purchase|           1.0|  2306|\n|Fallout New Vegas...| 59945701| purchase|           1.0|  3496|\n|Fallout New Vegas...| 59945701| purchase|           1.0|  3623|\n|         Garry's Mod| 59945701| purchase|           1.0|  2669|\n|Killing Floor Mod...| 59945701| purchase|           1.0|  1739|\n|             Magicka| 59945701| purchase|           1.0|  2241|\n|     Magicka Vietnam| 59945701| purchase|           1.0|  3798|\n| Natural Selection 2| 59945701| purchase|           1.0|  3190|\n|    Psychonauts Demo| 59945701| purchase|           1.0|  4280|\n|             Sanctum| 59945701| purchase|           1.0|  3953|\n|           Sanctum 2| 59945701| purchase|           1.0|  1252|\n|   Serious Sam 3 BFE| 59945701| purchase|           1.0|  3916|\n|Skullgirls Endles...| 59945701| purchase|           1.0|  1016|\n|Skyrim High Resol...| 59945701| purchase|           1.0|   510|\n|  Grand Theft Auto V| 53875128| purchase|           1.0|  1564|\n|          Insurgency| 53875128| purchase|           1.0|  2443|\n|       Left 4 Dead 2| 53875128| purchase|           1.0|    69|\n|METAL GEAR SOLID ...| 53875128| purchase|           1.0|     1|\n|S.T.A.L.K.E.R. Sh...| 53875128| purchase|           1.0|   382|\n|S.T.A.L.K.E.R. Ca...| 53875128| purchase|           1.0|  1061|\n|Saints Row The Third| 53875128| purchase|           1.0|   511|\n|           Far Cry 3| 53875128| purchase|           1.0|  4118|\n|S.T.A.L.K.E.R. Cl...| 53875128| purchase|           1.0|  2193|\n|       Rocket League| 53875128| purchase|           1.0|  2414|\n| Assassin's Creed II| 53875128| purchase|           1.0|  1035|\n|           Far Cry 4| 53875128| purchase|           1.0|   361|\n|           Prototype| 53875128| purchase|           1.0|   288|\n|Space Pirates and...| 53875128| purchase|           1.0|   289|\n|         Dying Light| 53875128| purchase|           1.0|  3274|\n|        Just Cause 2| 53875128| purchase|           1.0|  2631|\n+--------------------+---------+---------+--------------+------+\nonly showing top 100 rows\n\n"
     ]
    }
   ],
   "source": [
    "NewSteamDFpurchase = NewSteamDF.filter(col('Behaviour') == 'purchase')\n",
    "NewSteamDFpurchase.show(100)"
   ]
  },
  {
   "cell_type": "code",
   "execution_count": 0,
   "metadata": {
    "application/vnd.databricks.v1+cell": {
     "cellMetadata": {
      "byteLimit": 2048000,
      "rowLimit": 10000
     },
     "inputWidgets": {},
     "nuid": "c821298c-bc75-4858-bc48-e222a2b12470",
     "showTitle": false,
     "title": ""
    }
   },
   "outputs": [
    {
     "output_type": "stream",
     "name": "stdout",
     "output_type": "stream",
     "text": [
      "70489\n5\n"
     ]
    }
   ],
   "source": [
    "print(NewSteamDFPlay.count())\n",
    "print(len(NewSteamDFPlay.columns))"
   ]
  },
  {
   "cell_type": "code",
   "execution_count": 0,
   "metadata": {
    "application/vnd.databricks.v1+cell": {
     "cellMetadata": {
      "byteLimit": 2048000,
      "rowLimit": 10000
     },
     "inputWidgets": {},
     "nuid": "5b7dd7fd-13d4-4ef9-a574-eba63e808084",
     "showTitle": false,
     "title": ""
    }
   },
   "outputs": [],
   "source": [
    "(training, test)=NewSteamDFPlay.randomSplit([0.7,0.3], seed=100)"
   ]
  },
  {
   "cell_type": "code",
   "execution_count": 0,
   "metadata": {
    "application/vnd.databricks.v1+cell": {
     "cellMetadata": {
      "byteLimit": 2048000,
      "rowLimit": 10000
     },
     "inputWidgets": {},
     "nuid": "233f23fa-51ad-4774-b364-fc159511af86",
     "showTitle": false,
     "title": ""
    }
   },
   "outputs": [],
   "source": [
    "(training, test)=NewSteamDF1.randomSplit([0.8,0.2], seed=100)"
   ]
  },
  {
   "cell_type": "code",
   "execution_count": 0,
   "metadata": {
    "application/vnd.databricks.v1+cell": {
     "cellMetadata": {
      "byteLimit": 2048000,
      "rowLimit": 10000
     },
     "inputWidgets": {},
     "nuid": "b641ff3a-e654-4aac-9ed8-57884fdd6457",
     "showTitle": false,
     "title": ""
    }
   },
   "outputs": [
    {
     "output_type": "stream",
     "name": "stdout",
     "output_type": "stream",
     "text": [
      "+--------------------+---------+---------+--------------+------+--------------------+\n|            GameName|   UserId|Behaviour|PurchaseorPlay|GameID|            features|\n+--------------------+---------+---------+--------------+------+--------------------+\n|         007 Legends| 46055854|     play|           0.7|   403|(5158,[3737,5154,...|\n|           0RBITALIS| 86055705|     play|           0.3|  2726|(5158,[2613,5154,...|\n|1... 2... 3... KI...| 49893565|     play|           2.4|   657|(5158,[1937,5154,...|\n|1... 2... 3... KI...| 78560022|     play|           0.2|   657|(5158,[1937,5154,...|\n|          10,000,000| 33865373|     play|           3.6|  3112|(5158,[3738,5154,...|\n|   100% Orange Juice| 48028873|     play|           1.8|   275|(5158,[1518,5154,...|\n|   100% Orange Juice| 88525821|     play|           0.9|   275|(5158,[1518,5154,...|\n|   100% Orange Juice| 93644606|     play|           3.1|   275|(5158,[1518,5154,...|\n|   100% Orange Juice|125017535|     play|           0.7|   275|(5158,[1518,5154,...|\n|12 Labours of Her...| 39037163|     play|           0.2|   390|(5158,[1622,5154,...|\n|12 Labours of Her...| 60217594|     play|           7.1|   390|(5158,[1622,5154,...|\n|12 Labours of Her...|138941587|     play|           3.6|   390|(5158,[1622,5154,...|\n|12 Labours of Her...| 73835640|     play|           5.4|  1434|(5158,[1466,5154,...|\n|12 Labours of Her...| 84471496|     play|           0.1|  1434|(5158,[1466,5154,...|\n|12 Labours of Her...|162076421|     play|           1.9|  1434|(5158,[1466,5154,...|\n|12 Labours of Her...| 73835640|     play|           4.4|  1884|(5158,[2203,5154,...|\n|12 Labours of Her...|138941587|     play|           3.3|  1884|(5158,[2203,5154,...|\n|                 140| 21061921|     play|           0.4|  1353|(5158,[1565,5154,...|\n|                 140|120523185|     play|           2.0|  1353|(5158,[1565,5154,...|\n|                 140|130312302|     play|           1.2|  1353|(5158,[1565,5154,...|\n+--------------------+---------+---------+--------------+------+--------------------+\nonly showing top 20 rows\n\n"
     ]
    }
   ],
   "source": [
    "training.show()"
   ]
  },
  {
   "cell_type": "code",
   "execution_count": 0,
   "metadata": {
    "application/vnd.databricks.v1+cell": {
     "cellMetadata": {
      "byteLimit": 2048000,
      "rowLimit": 10000
     },
     "inputWidgets": {},
     "nuid": "590cb8c6-aae4-4f03-95f8-f8173c5e9087",
     "showTitle": false,
     "title": ""
    }
   },
   "outputs": [
    {
     "output_type": "stream",
     "name": "stdout",
     "output_type": "stream",
     "text": [
      "+--------------------+---------+---------+--------------+------+--------------------+\n|            GameName|   UserId|Behaviour|PurchaseorPlay|GameID|            features|\n+--------------------+---------+---------+--------------+------+--------------------+\n|1... 2... 3... KI...| 65117175|     play|           1.2|   657|(5158,[1937,5154,...|\n|   100% Orange Juice|197328486|     play|          35.0|   275|(5158,[1518,5154,...|\n|           1000 Amps| 55426012|     play|           0.1|  1349|(5158,[3360,5154,...|\n|12 Labours of Her...| 73835640|     play|           6.0|   390|(5158,[1622,5154,...|\n|12 Labours of Her...|123974970|     play|           5.2|   390|(5158,[1622,5154,...|\n|12 Labours of Her...|146999982|     play|           0.2|  1434|(5158,[1466,5154,...|\n|12 Labours of Her...|147602462|     play|          14.7|  1434|(5158,[1466,5154,...|\n|                 140| 30246419|     play|           1.2|  1353|(5158,[1565,5154,...|\n|        16bit Trader| 92914917|     play|           4.2|  1093|(5158,[2823,5154,...|\n|              3DMark|  1950243|     play|          26.0|  1208|(5158,[973,5154,5...|\n|              3DMark|  3449240|     play|           0.3|  1208|(5158,[973,5154,5...|\n|              3DMark|  9823354|     play|           0.3|  1208|(5158,[973,5154,5...|\n|              3DMark| 11978743|     play|         170.0|  1208|(5158,[973,5154,5...|\n|              3DMark| 24469287|     play|           4.3|  1208|(5158,[973,5154,5...|\n|              3DMark| 37422528|     play|           2.6|  1208|(5158,[973,5154,5...|\n|          4 Elements| 84455820|     play|          37.0|   156|(5158,[2321,5154,...|\n|     500 Years Act 1|138941587|     play|           3.0|   876|(5158,[3748,5154,...|\n|       7 Days to Die| 21061921|     play|          65.0|  2240|(5158,[197,5154,5...|\n|       7 Days to Die| 22301321|     play|           0.6|  2240|(5158,[197,5154,5...|\n|       7 Days to Die| 33622085|     play|           4.8|  2240|(5158,[197,5154,5...|\n+--------------------+---------+---------+--------------+------+--------------------+\nonly showing top 20 rows\n\n"
     ]
    }
   ],
   "source": [
    "test.show()"
   ]
  },
  {
   "cell_type": "code",
   "execution_count": 0,
   "metadata": {
    "application/vnd.databricks.v1+cell": {
     "cellMetadata": {
      "byteLimit": 2048000,
      "rowLimit": 10000
     },
     "inputWidgets": {},
     "nuid": "afc6c308-12ed-4436-abfa-f63be8b410f8",
     "showTitle": false,
     "title": ""
    }
   },
   "outputs": [
    {
     "output_type": "stream",
     "name": "stderr",
     "output_type": "stream",
     "text": [
      "2024/05/01 19:10:29 INFO mlflow.utils.autologging_utils: Created MLflow autologging run with ID 'f1385c80616242a59eb49430954f2e9b', which will track hyperparameters, performance metrics, model artifacts, and lineage information for the current pyspark.ml workflow\n2024/05/01 19:10:31 WARNING mlflow.data.spark_dataset: Failed to infer schema for Spark dataset. Exception: Unsupported Spark Type '<class 'pyspark.ml.linalg.VectorUDT'>', MLflow schema is only supported for scalar Spark types.\n2024/05/01 19:14:23 WARNING mlflow.pyspark.ml: Model ALS_056f1c9c70fc will not be autologged because it is not allowlisted or or because one or more of its nested models are not allowlisted. Call mlflow.spark.log_model() to explicitly log the model, or specify a custom allowlist via the spark.mlflow.pysparkml.autolog.logModelAllowlistFile Spark conf (see mlflow.pyspark.ml.autolog docs for more info).\n"
     ]
    },
    {
     "output_type": "stream",
     "name": "stdout",
     "output_type": "stream",
     "text": [
      "Root Mean Squared Error (RMSE) = 491.7520050932785\n"
     ]
    }
   ],
   "source": [
    "from pyspark.ml.recommendation import ALS\n",
    "from pyspark.ml.evaluation import RegressionEvaluator\n",
    "als = ALS(maxIter=10, regParam=0.01, userCol=\"UserId\", itemCol=\"GameID\", ratingCol=\"PurchaseorPlay\", seed=100) \n",
    "model = als.fit(training)\n",
    "\n",
    "\n",
    "predictions = model.transform(test).dropna()\n",
    "\n",
    "evaluator = RegressionEvaluator(metricName=\"rmse\", labelCol=\"PurchaseorPlay\", predictionCol=\"prediction\")\n",
    "rmse = evaluator.evaluate(predictions)\n",
    "\n",
    "print(\"Root Mean Squared Error (RMSE) =\", rmse)\n"
   ]
  },
  {
   "cell_type": "code",
   "execution_count": 0,
   "metadata": {
    "application/vnd.databricks.v1+cell": {
     "cellMetadata": {
      "byteLimit": 2048000,
      "rowLimit": 10000
     },
     "inputWidgets": {},
     "nuid": "194e6899-5627-4d0d-aae3-008f8f44ea77",
     "showTitle": false,
     "title": ""
    }
   },
   "outputs": [
    {
     "output_type": "stream",
     "name": "stderr",
     "output_type": "stream",
     "text": [
      "2024/05/01 16:53:13 INFO mlflow.utils.autologging_utils: Created MLflow autologging run with ID '85382122ab864ded9871926a64ef86d0', which will track hyperparameters, performance metrics, model artifacts, and lineage information for the current pyspark.ml workflow\n2024/05/01 16:53:14 WARNING mlflow.data.spark_dataset: Failed to infer schema for Spark dataset. Exception: Unsupported Spark Type '<class 'pyspark.ml.linalg.VectorUDT'>', MLflow schema is only supported for scalar Spark types.\n2024/05/01 17:03:00 WARNING mlflow.pyspark.ml: Model ALS_6d920f389d40 will not be autologged because it is not allowlisted or or because one or more of its nested models are not allowlisted. Call mlflow.spark.log_model() to explicitly log the model, or specify a custom allowlist via the spark.mlflow.pysparkml.autolog.logModelAllowlistFile Spark conf (see mlflow.pyspark.ml.autolog docs for more info).\n"
     ]
    },
    {
     "output_type": "stream",
     "name": "stdout",
     "output_type": "stream",
     "text": [
      "Root Mean Squared Error (RMSE) = 374.5584719449089\n"
     ]
    }
   ],
   "source": [
    "from pyspark.ml.recommendation import ALS\n",
    "from pyspark.ml.evaluation import RegressionEvaluator\n",
    "als = ALS(maxIter=30, regParam=0.06, userCol=\"UserId\", itemCol=\"GameID\", ratingCol=\"PurchaseorPlay\", seed=100)\n",
    "model = als.fit(training)\n",
    "\n",
    "predictions = model.transform(test).dropna()\n",
    "\n",
    "evaluator = RegressionEvaluator(metricName=\"rmse\", labelCol=\"PurchaseorPlay\", predictionCol=\"prediction\")\n",
    "rmse = evaluator.evaluate(predictions)\n",
    "\n",
    "print(\"Root Mean Squared Error (RMSE) =\", rmse)\n"
   ]
  },
  {
   "cell_type": "code",
   "execution_count": 0,
   "metadata": {
    "application/vnd.databricks.v1+cell": {
     "cellMetadata": {
      "byteLimit": 2048000,
      "rowLimit": 10000
     },
     "inputWidgets": {},
     "nuid": "9fcc4420-72d8-4755-8131-fbbcea2f0c2c",
     "showTitle": false,
     "title": ""
    }
   },
   "outputs": [
    {
     "output_type": "stream",
     "name": "stderr",
     "output_type": "stream",
     "text": [
      "2024/05/01 19:16:50 INFO mlflow.utils.autologging_utils: Created MLflow autologging run with ID '8a40bd830307479fb81c22c9530ab100', which will track hyperparameters, performance metrics, model artifacts, and lineage information for the current pyspark.ml workflow\n2024/05/01 19:16:51 WARNING mlflow.data.spark_dataset: Failed to infer schema for Spark dataset. Exception: Unsupported Spark Type '<class 'pyspark.ml.linalg.VectorUDT'>', MLflow schema is only supported for scalar Spark types.\n2024/05/01 19:45:28 WARNING mlflow.pyspark.ml: Model ALS_ca693db6865a will not be autologged because it is not allowlisted or or because one or more of its nested models are not allowlisted. Call mlflow.spark.log_model() to explicitly log the model, or specify a custom allowlist via the spark.mlflow.pysparkml.autolog.logModelAllowlistFile Spark conf (see mlflow.pyspark.ml.autolog docs for more info).\n"
     ]
    }
   ],
   "source": [
    "from pyspark.ml.recommendation import ALS\n",
    " \n",
    "als = ALS(maxIter=50, regParam=0.8, userCol=\"UserId\", itemCol=\"GameID\", ratingCol=\"PurchaseorPlay\",seed=100)\n",
    " \n",
    "model = als.fit(training)\n"
   ]
  },
  {
   "cell_type": "code",
   "execution_count": 0,
   "metadata": {
    "application/vnd.databricks.v1+cell": {
     "cellMetadata": {
      "byteLimit": 2048000,
      "rowLimit": 10000
     },
     "inputWidgets": {},
     "nuid": "5fcc786e-73bd-44e7-bea6-2c40505f1697",
     "showTitle": false,
     "title": ""
    }
   },
   "outputs": [
    {
     "output_type": "stream",
     "name": "stdout",
     "output_type": "stream",
     "text": [
      "+--------------------+---------+---------+--------------+------+--------------------+-----------+\n|            GameName|   UserId|Behaviour|PurchaseorPlay|GameID|            features| prediction|\n+--------------------+---------+---------+--------------+------+--------------------+-----------+\n|1... 2... 3... KI...| 65117175|     play|           1.2|   657|(5158,[1937,5154,...|  3.9245467|\n|   100% Orange Juice|197328486|     play|          35.0|   275|(5158,[1518,5154,...|    70.7795|\n|12 Labours of Her...| 73835640|     play|           6.0|   390|(5158,[1622,5154,...|   8.059372|\n|12 Labours of Her...|123974970|     play|           5.2|   390|(5158,[1622,5154,...|  4.0123687|\n|12 Labours of Her...|146999982|     play|           0.2|  1434|(5158,[1466,5154,...| 0.67995524|\n|12 Labours of Her...|147602462|     play|          14.7|  1434|(5158,[1466,5154,...| -1.6875671|\n|                 140| 30246419|     play|           1.2|  1353|(5158,[1565,5154,...|0.095413126|\n|        16bit Trader| 92914917|     play|           4.2|  1093|(5158,[2823,5154,...|  1.9593705|\n|              3DMark|  1950243|     play|          26.0|  1208|(5158,[973,5154,5...| 0.24071379|\n|              3DMark|  3449240|     play|           0.3|  1208|(5158,[973,5154,5...|   -2.74932|\n|              3DMark|  9823354|     play|           0.3|  1208|(5158,[973,5154,5...|  5.7391777|\n|              3DMark| 11978743|     play|         170.0|  1208|(5158,[973,5154,5...|  3.4342546|\n|              3DMark| 24469287|     play|           4.3|  1208|(5158,[973,5154,5...|  2.2816198|\n|              3DMark| 37422528|     play|           2.6|  1208|(5158,[973,5154,5...| -42.858776|\n|          4 Elements| 84455820|     play|          37.0|   156|(5158,[2321,5154,...|  1.6682345|\n|       7 Days to Die| 21061921|     play|          65.0|  2240|(5158,[197,5154,5...| -16.615091|\n|       7 Days to Die| 22301321|     play|           0.6|  2240|(5158,[197,5154,5...| -12.335836|\n|       7 Days to Die| 33622085|     play|           4.8|  2240|(5158,[197,5154,5...| -253.62991|\n|       7 Days to Die| 43913966|     play|           6.4|  2240|(5158,[197,5154,5...|  35.189854|\n|       7 Days to Die| 49893565|     play|           5.4|  2240|(5158,[197,5154,5...|  1.0190964|\n+--------------------+---------+---------+--------------+------+--------------------+-----------+\nonly showing top 20 rows\n\n"
     ]
    }
   ],
   "source": [
    "predictions = model.transform(test).dropna()\n",
    "\n",
    "predictions.show()"
   ]
  },
  {
   "cell_type": "code",
   "execution_count": 0,
   "metadata": {
    "application/vnd.databricks.v1+cell": {
     "cellMetadata": {
      "byteLimit": 2048000,
      "rowLimit": 10000
     },
     "inputWidgets": {},
     "nuid": "b8ebd156-3d12-4dfb-b650-6238b5821ad2",
     "showTitle": false,
     "title": ""
    }
   },
   "outputs": [
    {
     "output_type": "stream",
     "name": "stdout",
     "output_type": "stream",
     "text": [
      "Root Mean Square Error is 223.595\n"
     ]
    }
   ],
   "source": [
    "from pyspark.ml.evaluation import RegressionEvaluator\n",
    "evaluator = RegressionEvaluator(metricName=\"rmse\", labelCol=\"PurchaseorPlay\", predictionCol=\"prediction\")\n",
    " \n",
    "rmse = evaluator.evaluate(predictions)\n",
    " \n",
    "print('Root Mean Square Error is %g' %rmse)"
   ]
  },
  {
   "cell_type": "code",
   "execution_count": 0,
   "metadata": {
    "application/vnd.databricks.v1+cell": {
     "cellMetadata": {
      "byteLimit": 2048000,
      "rowLimit": 10000
     },
     "inputWidgets": {},
     "nuid": "aeac25a4-956e-435a-81a6-a7959544e7c5",
     "showTitle": false,
     "title": ""
    }
   },
   "outputs": [],
   "source": [
    "from pyspark.ml.tuning import ParamGridBuilder\n",
    " \n",
    "als = ALS(maxIter=5, userCol=\"UserId\", itemCol=\"GameID\", ratingCol=\"PurchaseorPlay\", coldStartStrategy=\"drop\", seed=100)\n",
    " \n",
    "# Create a parameter grid\n",
    " \n",
    "parameters = ParamGridBuilder()\\\n",
    ".addGrid(als.rank, [5, 10, 15, 20, 25])\\\n",
    ".addGrid(als.regParam, [0.001, 0.005, 0.01, 0.05, 0.1, 0.8, 0.6])\\\n",
    ".build()"
   ]
  },
  {
   "cell_type": "code",
   "execution_count": 0,
   "metadata": {
    "application/vnd.databricks.v1+cell": {
     "cellMetadata": {
      "byteLimit": 2048000,
      "rowLimit": 10000
     },
     "inputWidgets": {},
     "nuid": "f6002105-7cf3-48a6-b692-1aeda283075e",
     "showTitle": false,
     "title": ""
    }
   },
   "outputs": [],
   "source": [
    "from pyspark.ml.tuning import TrainValidationSplit\n",
    " \n",
    "# Define TrainValidationSplit\n",
    " \n",
    "tvs = TrainValidationSplit()\\\n",
    ".setSeed(100)\\\n",
    ".setTrainRatio(0.75)\\\n",
    ".setEstimatorParamMaps(parameters)\\\n",
    ".setEstimator(als)\\\n",
    ".setEvaluator(evaluator)"
   ]
  },
  {
   "cell_type": "code",
   "execution_count": 0,
   "metadata": {
    "application/vnd.databricks.v1+cell": {
     "cellMetadata": {
      "byteLimit": 2048000,
      "rowLimit": 10000
     },
     "inputWidgets": {},
     "nuid": "daff1384-3c7c-43b9-b717-c538b431d55e",
     "showTitle": false,
     "title": ""
    }
   },
   "outputs": [
    {
     "output_type": "stream",
     "name": "stderr",
     "output_type": "stream",
     "text": [
      "2024/05/01 19:46:09 INFO mlflow.utils.autologging_utils: Created MLflow autologging run with ID 'ddb50dea575246528574402b5260924c', which will track hyperparameters, performance metrics, model artifacts, and lineage information for the current pyspark.ml workflow\n2024/05/01 19:46:10 WARNING mlflow.data.spark_dataset: Failed to infer schema for Spark dataset. Exception: Unsupported Spark Type '<class 'pyspark.ml.linalg.VectorUDT'>', MLflow schema is only supported for scalar Spark types.\n2024/05/01 21:19:49 WARNING mlflow.pyspark.ml: Model TrainValidationSplitModel_fda3096fda18 will not be autologged because it is not allowlisted or or because one or more of its nested models are not allowlisted. Call mlflow.spark.log_model() to explicitly log the model, or specify a custom allowlist via the spark.mlflow.pysparkml.autolog.logModelAllowlistFile Spark conf (see mlflow.pyspark.ml.autolog docs for more info).\n"
     ]
    }
   ],
   "source": [
    "gridsearchModel = tvs.fit(training)"
   ]
  },
  {
   "cell_type": "code",
   "execution_count": 0,
   "metadata": {
    "application/vnd.databricks.v1+cell": {
     "cellMetadata": {
      "byteLimit": 2048000,
      "rowLimit": 10000
     },
     "inputWidgets": {},
     "nuid": "257c096d-79fe-4b4e-b0c1-557f5f2ca07c",
     "showTitle": false,
     "title": ""
    }
   },
   "outputs": [
    {
     "output_type": "stream",
     "name": "stdout",
     "output_type": "stream",
     "text": [
      "Parameters for the best model:\nRank Parameter: 25\nRegParam Parameter: 0.8\n"
     ]
    }
   ],
   "source": [
    "\n",
    "bestModel = gridsearchModel.bestModel\n",
    " \n",
    "print(\"Parameters for the best model:\")\n",
    "print(\"Rank Parameter: %g\" %bestModel.rank)\n",
    "print(\"RegParam Parameter: %g\" %bestModel._java_obj.parent().getRegParam())"
   ]
  },
  {
   "cell_type": "code",
   "execution_count": 0,
   "metadata": {
    "application/vnd.databricks.v1+cell": {
     "cellMetadata": {
      "byteLimit": 2048000,
      "rowLimit": 10000
     },
     "inputWidgets": {},
     "nuid": "17d8fd51-5c90-476f-b733-c5fa1b19d82e",
     "showTitle": false,
     "title": ""
    }
   },
   "outputs": [
    {
     "output_type": "execute_result",
     "data": {
      "text/plain": [
       "216.55362171983433"
      ]
     },
     "execution_count": 15,
     "metadata": {},
     "output_type": "execute_result"
    }
   ],
   "source": [
    "evaluator.evaluate(bestModel.transform(test))"
   ]
  },
  {
   "cell_type": "code",
   "execution_count": 0,
   "metadata": {
    "application/vnd.databricks.v1+cell": {
     "cellMetadata": {
      "byteLimit": 2048000,
      "rowLimit": 10000
     },
     "inputWidgets": {},
     "nuid": "98225cbd-67e1-4ce7-b32b-52e21325a911",
     "showTitle": false,
     "title": ""
    }
   },
   "outputs": [],
   "source": [
    "def recommendationsByUser(UserId):\n",
    "    user_predictions = predictions.filter(predictions.UserId == UserId)\\\n",
    "                                   .orderBy(\"prediction\", ascending=False)\\\n",
    "                                   .limit(4)\n",
    "    \n",
    "    user_predictions.show(truncate=False)\n",
    "    return None\n"
   ]
  },
  {
   "cell_type": "code",
   "execution_count": 0,
   "metadata": {
    "application/vnd.databricks.v1+cell": {
     "cellMetadata": {
      "byteLimit": 2048000,
      "rowLimit": 10000
     },
     "inputWidgets": {},
     "nuid": "c389c549-f824-4898-b7c3-259e9a9b7286",
     "showTitle": false,
     "title": ""
    }
   },
   "outputs": [
    {
     "output_type": "stream",
     "name": "stdout",
     "output_type": "stream",
     "text": [
      "+-------------------------------+--------+---------+--------------+------+-----------------------------------------------------------------------+-----------+\n|GameName                       |UserId  |Behaviour|PurchaseorPlay|GameID|features                                                               |prediction |\n+-------------------------------+--------+---------+--------------+------+-----------------------------------------------------------------------+-----------+\n|Mount & Blade Warband          |94851051|play     |9.4           |225   |(5158,[153,5154,5156,5157],[1.0,9.4851051E7,9.399999618530273,225.0])  |11763.4375 |\n|Counter-Strike Global Offensive|94851051|play     |36.0          |2353  |(5158,[2,5154,5156,5157],[1.0,9.4851051E7,36.0,2353.0])                |976.2047   |\n|Rocketbirds Hardboiled Chicken |94851051|play     |0.6           |3518  |(5158,[901,5154,5156,5157],[1.0,9.4851051E7,0.6000000238418579,3518.0])|-0.21311611|\n|PAYDAY 2                       |94851051|play     |30.0          |4282  |(5158,[21,5154,5156,5157],[1.0,9.4851051E7,30.0,4282.0])               |-229.98604 |\n+-------------------------------+--------+---------+--------------+------+-----------------------------------------------------------------------+-----------+\n\n"
     ]
    }
   ],
   "source": [
    "\n",
    "recommendationsByUser(94851051)\n"
   ]
  },
  {
   "cell_type": "code",
   "execution_count": 0,
   "metadata": {
    "application/vnd.databricks.v1+cell": {
     "cellMetadata": {
      "byteLimit": 2048000,
      "rowLimit": 10000
     },
     "inputWidgets": {},
     "nuid": "32f77c0e-aa9f-43f9-a0db-03d341156497",
     "showTitle": false,
     "title": ""
    }
   },
   "outputs": [],
   "source": [
    "userRecs=bestModel.recommendForAllUsers(6)"
   ]
  },
  {
   "cell_type": "code",
   "execution_count": 0,
   "metadata": {
    "application/vnd.databricks.v1+cell": {
     "cellMetadata": {
      "byteLimit": 2048000,
      "rowLimit": 10000
     },
     "inputWidgets": {},
     "nuid": "05e6fc86-65d1-4dfe-ab26-9c922ef58fb4",
     "showTitle": false,
     "title": ""
    }
   },
   "outputs": [
    {
     "output_type": "stream",
     "name": "stdout",
     "output_type": "stream",
     "text": [
      "+--------+---------------------------------------------------------------------------------------------------------------------------+\n|UserId  |recommendations                                                                                                            |\n+--------+---------------------------------------------------------------------------------------------------------------------------+\n|76767   |[{232, 600.7385}, {2294, 501.44836}, {3772, 464.95563}, {351, 434.5953}, {3689, 361.40973}, {2202, 354.3112}]              |\n|144736  |[{4921, 0.119978756}, {3689, 0.099962875}, {3772, 0.08034055}, {232, 0.069678985}, {2294, 0.064843826}, {351, 0.061335757}]|\n|229911  |[{4677, 533.5479}, {2803, 428.9477}, {232, 331.46594}, {3697, 327.3155}, {351, 313.9445}, {3202, 311.48126}]               |\n|948368  |[{4921, 5.2478485}, {1223, 2.030438}, {1251, 1.3153516}, {1506, 1.0775161}, {953, 1.0424814}, {225, 0.9495074}]            |\n|975449  |[{2084, 352.73962}, {3893, 339.43716}, {3086, 306.3869}, {4677, 294.11728}, {3060, 293.52576}, {1307, 281.6993}]           |\n|1268792 |[{4921, 0.59989375}, {3689, 0.49981445}, {3772, 0.40170273}, {232, 0.34839493}, {2294, 0.3242191}, {351, 0.30667877}]      |\n|2531540 |[{2803, 68.948166}, {3202, 65.0381}, {225, 59.58967}, {2294, 50.97564}, {1223, 48.084385}, {2105, 47.677906}]              |\n|2753525 |[{3772, 614.67755}, {4124, 514.559}, {2202, 368.16406}, {1506, 354.58792}, {1223, 286.88632}, {4625, 286.3207}]            |\n|3450426 |[{225, 16.138563}, {953, 9.717894}, {466, 9.534376}, {4921, 9.001883}, {3436, 8.630057}, {351, 7.1308427}]                 |\n|7923954 |[{4921, 0.35993633}, {3689, 0.29988864}, {3772, 0.24102166}, {232, 0.20903699}, {2294, 0.1945315}, {351, 0.18400727}]      |\n|8259307 |[{4921, 72.04369}, {2202, 35.67417}, {2803, 26.141613}, {3697, 23.011196}, {1896, 20.348185}, {3176, 20.28104}]            |\n|8567888 |[{3697, 1.7248974}, {44, 1.2983462}, {3254, 1.2665756}, {1223, 1.2471961}, {106, 1.1744249}, {1387, 0.89348143}]           |\n|8585433 |[{4921, 5068.9673}, {225, 1145.555}, {351, 880.5887}, {3919, 734.297}, {3176, 600.83466}, {198, 591.01306}]                |\n|8784496 |[{4921, 248.79178}, {4677, 86.95323}, {3772, 74.42036}, {1223, 72.9853}, {311, 41.15377}, {4095, 40.171165}]               |\n|8795607 |[{3176, 223.29654}, {2803, 181.8998}, {2202, 165.57748}, {225, 143.83952}, {953, 133.76392}, {1900, 99.67581}]             |\n|10595342|[{4921, 740.62885}, {1223, 263.58252}, {1251, 172.29546}, {1506, 147.98743}, {953, 137.77634}, {225, 129.4315}]            |\n|10599862|[{3772, 1300.928}, {3697, 1195.3562}, {2202, 1034.1875}, {232, 970.39844}, {855, 769.6619}, {2294, 758.23376}]             |\n|11807754|[{4921, 2865.6409}, {4677, 1346.7726}, {1251, 1180.9358}, {4124, 1090.303}, {1900, 871.2736}, {232, 845.9933}]             |\n|11973378|[{3697, 1.0614755}, {44, 0.79898226}, {3254, 0.77943116}, {1223, 0.7675053}, {106, 0.72272295}, {1387, 0.54983485}]        |\n|15095770|[{3697, 10.738093}, {2202, 5.6539717}, {311, 4.0842094}, {225, 4.0625005}, {106, 2.9852695}, {1223, 2.952303}]             |\n+--------+---------------------------------------------------------------------------------------------------------------------------+\nonly showing top 20 rows\n\n"
     ]
    }
   ],
   "source": [
    "userRecs.show(truncate= False)"
   ]
  },
  {
   "cell_type": "code",
   "execution_count": 0,
   "metadata": {
    "application/vnd.databricks.v1+cell": {
     "cellMetadata": {
      "byteLimit": 2048000,
      "rowLimit": 10000
     },
     "inputWidgets": {},
     "nuid": "90cf2769-9cbe-4572-a335-b7f8fe5f5071",
     "showTitle": false,
     "title": ""
    }
   },
   "outputs": [
    {
     "output_type": "stream",
     "name": "stdout",
     "output_type": "stream",
     "text": [
      "+--------+------+-----------+\n|UserId  |GameID|max_rating |\n+--------+------+-----------+\n|76767   |232   |600.7385   |\n|144736  |4921  |0.119978756|\n|229911  |4677  |533.5479   |\n|948368  |4921  |5.2478485  |\n|975449  |2084  |352.73962  |\n|1268792 |4921  |0.59989375 |\n|2531540 |2803  |68.948166  |\n|2753525 |3772  |614.67755  |\n|3450426 |225   |16.138563  |\n|7923954 |4921  |0.35993633 |\n|8259307 |4921  |72.04369   |\n|8567888 |3697  |1.7248974  |\n|8585433 |4921  |5068.9673  |\n|8784496 |4921  |248.79178  |\n|8795607 |3176  |223.29654  |\n|10595342|4921  |740.62885  |\n|10599862|3772  |1300.928   |\n|11807754|4921  |2865.6409  |\n|11973378|3697  |1.0614755  |\n|15095770|3697  |10.738093  |\n+--------+------+-----------+\nonly showing top 20 rows\n\n"
     ]
    }
   ],
   "source": [
    "from pyspark.sql.functions import col, explode, max\n",
    "exploded_userRecs = userRecs.select(\"UserId\", explode(\"recommendations\").alias(\"recommendation\"))\n",
    "best_game_for_each_user = exploded_userRecs \\\n",
    "    .groupBy(\"UserId\") \\\n",
    "    .agg(max(col(\"recommendation.rating\")).alias(\"max_rating\")) \\\n",
    "    .join(exploded_userRecs, [\"UserId\"]) \\\n",
    "    .filter(col(\"recommendation.rating\") == col(\"max_rating\")) \\\n",
    "    .select(\"UserId\", \"recommendation.GameID\", \"max_rating\")\n",
    "best_game_for_each_user.show(truncate=False)"
   ]
  }
 ],
 "metadata": {
  "application/vnd.databricks.v1+notebook": {
   "dashboards": [],
   "language": "python",
   "notebookMetadata": {
    "mostRecentlyExecutedCommandWithImplicitDF": {
     "commandId": 1491999356309221,
     "dataframes": [
      "_sqldf"
     ]
    },
    "pythonIndentUnit": 4
   },
   "notebookName": "Mohammed-Adnan-Englampurath_ML",
   "widgets": {}
  }
 },
 "nbformat": 4,
 "nbformat_minor": 0
}
